{
 "cells": [
  {
   "cell_type": "code",
   "execution_count": 205,
   "metadata": {},
   "outputs": [],
   "source": [
    "import pandas as pd\n",
    "import numpy as np\n",
    "import matplotlib.pyplot as plt\n",
    "import seaborn as sns\n",
    "from sklearn.decomposition import PCA\n",
    "from sklearn import svm\n",
    "from sklearn.model_selection import cross_val_score\n",
    "from sklearn.model_selection import train_test_split\n",
    "from sklearn.svm import LinearSVC\n",
    "from sklearn.kernel_approximation import Nystroem\n",
    "from scipy import linalg"
   ]
  },
  {
   "cell_type": "code",
   "execution_count": 2,
   "metadata": {},
   "outputs": [],
   "source": [
    "full_df = pd.read_csv('./data/train.csv')"
   ]
  },
  {
   "cell_type": "code",
   "execution_count": 3,
   "metadata": {},
   "outputs": [
    {
     "data": {
      "text/html": [
       "<div>\n",
       "<style scoped>\n",
       "    .dataframe tbody tr th:only-of-type {\n",
       "        vertical-align: middle;\n",
       "    }\n",
       "\n",
       "    .dataframe tbody tr th {\n",
       "        vertical-align: top;\n",
       "    }\n",
       "\n",
       "    .dataframe thead th {\n",
       "        text-align: right;\n",
       "    }\n",
       "</style>\n",
       "<table border=\"1\" class=\"dataframe\">\n",
       "  <thead>\n",
       "    <tr style=\"text-align: right;\">\n",
       "      <th></th>\n",
       "      <th>label</th>\n",
       "      <th>pixel0</th>\n",
       "      <th>pixel1</th>\n",
       "      <th>pixel2</th>\n",
       "      <th>pixel3</th>\n",
       "      <th>pixel4</th>\n",
       "      <th>pixel5</th>\n",
       "      <th>pixel6</th>\n",
       "      <th>pixel7</th>\n",
       "      <th>pixel8</th>\n",
       "      <th>...</th>\n",
       "      <th>pixel774</th>\n",
       "      <th>pixel775</th>\n",
       "      <th>pixel776</th>\n",
       "      <th>pixel777</th>\n",
       "      <th>pixel778</th>\n",
       "      <th>pixel779</th>\n",
       "      <th>pixel780</th>\n",
       "      <th>pixel781</th>\n",
       "      <th>pixel782</th>\n",
       "      <th>pixel783</th>\n",
       "    </tr>\n",
       "  </thead>\n",
       "  <tbody>\n",
       "    <tr>\n",
       "      <td>0</td>\n",
       "      <td>1</td>\n",
       "      <td>0</td>\n",
       "      <td>0</td>\n",
       "      <td>0</td>\n",
       "      <td>0</td>\n",
       "      <td>0</td>\n",
       "      <td>0</td>\n",
       "      <td>0</td>\n",
       "      <td>0</td>\n",
       "      <td>0</td>\n",
       "      <td>...</td>\n",
       "      <td>0</td>\n",
       "      <td>0</td>\n",
       "      <td>0</td>\n",
       "      <td>0</td>\n",
       "      <td>0</td>\n",
       "      <td>0</td>\n",
       "      <td>0</td>\n",
       "      <td>0</td>\n",
       "      <td>0</td>\n",
       "      <td>0</td>\n",
       "    </tr>\n",
       "    <tr>\n",
       "      <td>1</td>\n",
       "      <td>0</td>\n",
       "      <td>0</td>\n",
       "      <td>0</td>\n",
       "      <td>0</td>\n",
       "      <td>0</td>\n",
       "      <td>0</td>\n",
       "      <td>0</td>\n",
       "      <td>0</td>\n",
       "      <td>0</td>\n",
       "      <td>0</td>\n",
       "      <td>...</td>\n",
       "      <td>0</td>\n",
       "      <td>0</td>\n",
       "      <td>0</td>\n",
       "      <td>0</td>\n",
       "      <td>0</td>\n",
       "      <td>0</td>\n",
       "      <td>0</td>\n",
       "      <td>0</td>\n",
       "      <td>0</td>\n",
       "      <td>0</td>\n",
       "    </tr>\n",
       "    <tr>\n",
       "      <td>2</td>\n",
       "      <td>1</td>\n",
       "      <td>0</td>\n",
       "      <td>0</td>\n",
       "      <td>0</td>\n",
       "      <td>0</td>\n",
       "      <td>0</td>\n",
       "      <td>0</td>\n",
       "      <td>0</td>\n",
       "      <td>0</td>\n",
       "      <td>0</td>\n",
       "      <td>...</td>\n",
       "      <td>0</td>\n",
       "      <td>0</td>\n",
       "      <td>0</td>\n",
       "      <td>0</td>\n",
       "      <td>0</td>\n",
       "      <td>0</td>\n",
       "      <td>0</td>\n",
       "      <td>0</td>\n",
       "      <td>0</td>\n",
       "      <td>0</td>\n",
       "    </tr>\n",
       "    <tr>\n",
       "      <td>3</td>\n",
       "      <td>4</td>\n",
       "      <td>0</td>\n",
       "      <td>0</td>\n",
       "      <td>0</td>\n",
       "      <td>0</td>\n",
       "      <td>0</td>\n",
       "      <td>0</td>\n",
       "      <td>0</td>\n",
       "      <td>0</td>\n",
       "      <td>0</td>\n",
       "      <td>...</td>\n",
       "      <td>0</td>\n",
       "      <td>0</td>\n",
       "      <td>0</td>\n",
       "      <td>0</td>\n",
       "      <td>0</td>\n",
       "      <td>0</td>\n",
       "      <td>0</td>\n",
       "      <td>0</td>\n",
       "      <td>0</td>\n",
       "      <td>0</td>\n",
       "    </tr>\n",
       "    <tr>\n",
       "      <td>4</td>\n",
       "      <td>0</td>\n",
       "      <td>0</td>\n",
       "      <td>0</td>\n",
       "      <td>0</td>\n",
       "      <td>0</td>\n",
       "      <td>0</td>\n",
       "      <td>0</td>\n",
       "      <td>0</td>\n",
       "      <td>0</td>\n",
       "      <td>0</td>\n",
       "      <td>...</td>\n",
       "      <td>0</td>\n",
       "      <td>0</td>\n",
       "      <td>0</td>\n",
       "      <td>0</td>\n",
       "      <td>0</td>\n",
       "      <td>0</td>\n",
       "      <td>0</td>\n",
       "      <td>0</td>\n",
       "      <td>0</td>\n",
       "      <td>0</td>\n",
       "    </tr>\n",
       "  </tbody>\n",
       "</table>\n",
       "<p>5 rows × 785 columns</p>\n",
       "</div>"
      ],
      "text/plain": [
       "   label  pixel0  pixel1  pixel2  pixel3  pixel4  pixel5  pixel6  pixel7  \\\n",
       "0      1       0       0       0       0       0       0       0       0   \n",
       "1      0       0       0       0       0       0       0       0       0   \n",
       "2      1       0       0       0       0       0       0       0       0   \n",
       "3      4       0       0       0       0       0       0       0       0   \n",
       "4      0       0       0       0       0       0       0       0       0   \n",
       "\n",
       "   pixel8  ...  pixel774  pixel775  pixel776  pixel777  pixel778  pixel779  \\\n",
       "0       0  ...         0         0         0         0         0         0   \n",
       "1       0  ...         0         0         0         0         0         0   \n",
       "2       0  ...         0         0         0         0         0         0   \n",
       "3       0  ...         0         0         0         0         0         0   \n",
       "4       0  ...         0         0         0         0         0         0   \n",
       "\n",
       "   pixel780  pixel781  pixel782  pixel783  \n",
       "0         0         0         0         0  \n",
       "1         0         0         0         0  \n",
       "2         0         0         0         0  \n",
       "3         0         0         0         0  \n",
       "4         0         0         0         0  \n",
       "\n",
       "[5 rows x 785 columns]"
      ]
     },
     "execution_count": 3,
     "metadata": {},
     "output_type": "execute_result"
    }
   ],
   "source": [
    "full_df.head()"
   ]
  },
  {
   "cell_type": "code",
   "execution_count": 4,
   "metadata": {},
   "outputs": [],
   "source": [
    "def getVectorisedData(cur_dataframe):\n",
    "    y = cur_dataframe['label'].to_numpy().reshape(-1,1)\n",
    "    x_cols = ['pixel' + str(i) for i in range(784)]\n",
    "    x = cur_dataframe[x_cols].to_numpy().reshape(-1,784)\n",
    "    return x, y"
   ]
  },
  {
   "cell_type": "code",
   "execution_count": 5,
   "metadata": {},
   "outputs": [],
   "source": [
    "x_full, y_full = getVectorisedData(full_df)"
   ]
  },
  {
   "cell_type": "code",
   "execution_count": null,
   "metadata": {},
   "outputs": [],
   "source": [
    "x_full = x_full\n",
    "numComponents = x_full.shape[1]\n",
    "\n",
    "pca = PCA(n_components=numComponents\n",
    "        , copy=True\n",
    "        , whiten=False\n",
    "        , svd_solver='auto'\n",
    "          , tol=0.0\n",
    "          , iterated_power='auto'\n",
    "          , random_state=None)\n",
    "\n",
    "pca.fit(x_full)\n",
    "eigenVecs = pca.components_\n",
    "eigenVals = pca.singular_values_"
   ]
  },
  {
   "cell_type": "code",
   "execution_count": null,
   "metadata": {},
   "outputs": [],
   "source": [
    "cumulative = [np.sum(pca.explained_variance_ratio_[:i]) for i in range(1,len(pca.explained_variance_ratio_))]"
   ]
  },
  {
   "cell_type": "code",
   "execution_count": null,
   "metadata": {},
   "outputs": [],
   "source": [
    "plt.plot(cumulative)"
   ]
  },
  {
   "cell_type": "code",
   "execution_count": null,
   "metadata": {},
   "outputs": [],
   "source": [
    "def visualiseImage(xData):\n",
    "    plt.imshow(xData.reshape(28,28), cmap='Greys')\n",
    "\n",
    "def enhanceImage(xData):\n",
    "    return 255*xData/np.maximum(1,xData)"
   ]
  },
  {
   "cell_type": "code",
   "execution_count": null,
   "metadata": {},
   "outputs": [],
   "source": [
    "img_init=x_full[0]#.reshape(1,-1)\n",
    "#img_init=enhanceImage(img_init)\n",
    "#print(img_init)\n",
    "visualiseImage(img_init)"
   ]
  },
  {
   "cell_type": "code",
   "execution_count": 177,
   "metadata": {},
   "outputs": [],
   "source": [
    "def visualisePCAImage(xPCAData, eigenVecs, numComps):\n",
    "    pca_img = xPCAData[0] * eigenVecs[0]\n",
    "\n",
    "    for i in range(1, numComps):\n",
    "        pca_img = pca_img + xPCAData[i] * eigenVecs[i]\n",
    "    #visualiseImage(pca_img)\n",
    "    plt.imshow(pca_img.reshape(28,28), cmap='Greys')"
   ]
  },
  {
   "cell_type": "code",
   "execution_count": null,
   "metadata": {},
   "outputs": [],
   "source": []
  },
  {
   "cell_type": "code",
   "execution_count": null,
   "metadata": {},
   "outputs": [],
   "source": [
    "numSubComps = 69\n",
    "\n",
    "img_new_coords = np.matmul(eigenVecs, np.transpose(img_init))\n",
    "pca_img = img_new_coords[0] * eigenVecs[0]\n",
    "\n",
    "for i in range(1, numSubComps):\n",
    "    pca_img = pca_img + img_new_coords[i] * eigenVecs[i]\n",
    "#pca_img = pca_img.reshape(1,-1)\n",
    "\n",
    "#print(pca_img)\n",
    "visualiseImage(pca_img) \n"
   ]
  },
  {
   "cell_type": "code",
   "execution_count": null,
   "metadata": {},
   "outputs": [],
   "source": [
    "x_full_pca = pca.transform(x_full)"
   ]
  },
  {
   "cell_type": "code",
   "execution_count": null,
   "metadata": {
    "scrolled": true
   },
   "outputs": [],
   "source": [
    "test_coords = x_full_pca[0]\n",
    "\n",
    "pca_img_2 = test_coords[0] * eigenVecs[0]\n",
    "for i in range(1, numSubComps):\n",
    "    pca_img_2 = pca_img_2 + test_coords[i] * eigenVecs[i]\n",
    "pca_img_2 = pca_img_2 + np.mean(x_full, axis=0)\n",
    "pca_img_2 = pca_img_2.reshape(1,-1)\n",
    "\n",
    "visualiseImage(pca_img_2) \n"
   ]
  },
  {
   "cell_type": "code",
   "execution_count": 8,
   "metadata": {},
   "outputs": [],
   "source": [
    "def create_pca_dataframe(x_pca_data, y_data):\n",
    "    new_cols = ['label'] + ['v' + str(i) for i in range(numComponents)]\n",
    "    pca_df = pd.DataFrame(np.hstack((y_data, x_pca_data)))\n",
    "    pca_df.columns = new_cols\n",
    "    return pca_df"
   ]
  },
  {
   "cell_type": "code",
   "execution_count": null,
   "metadata": {},
   "outputs": [],
   "source": [
    "pca_imgs_df = create_pca_dataframe(x_full_pca, y_full)\n",
    "pca_imgs_df"
   ]
  },
  {
   "cell_type": "code",
   "execution_count": null,
   "metadata": {},
   "outputs": [],
   "source": [
    "#numberSubList=[i for i in range(10)]\n",
    "numberSubList = [3,8]\n",
    "pca_imgs_sub_df=pca_imgs_df[pca_imgs_df['label'].isin(numberSubList)]\n",
    "#visualise first 2 principal components coordinates\n",
    "plt.figure(figsize=(8,5))\n",
    "sns.scatterplot(x='v0', y='v1', hue='label', data=pca_imgs_sub_df\n",
    "                , legend='full', palette=sns.color_palette(\"Set1\", n_colors=len(numberSubList)))"
   ]
  },
  {
   "cell_type": "code",
   "execution_count": null,
   "metadata": {},
   "outputs": [],
   "source": [
    "num_features = 69\n",
    "\n",
    "clf = svm.SVC(kernel='rbf', gamma='scale', C=10, verbose=True, cache_size=1000)\n",
    "clf.fit(x_full_pca[:,:num_features], y_full.ravel())"
   ]
  },
  {
   "cell_type": "code",
   "execution_count": null,
   "metadata": {},
   "outputs": [],
   "source": [
    "y_pred = clf.predict(x_full_pca[:,:num_features])\n",
    "numerrors = np.sum(1*(y_pred!=y_full.ravel()))"
   ]
  },
  {
   "cell_type": "code",
   "execution_count": null,
   "metadata": {},
   "outputs": [],
   "source": [
    "print(numerrors/len(y_full))"
   ]
  },
  {
   "cell_type": "markdown",
   "metadata": {},
   "source": [
    "### First run a PCA, then fit SVM on a subset of features"
   ]
  },
  {
   "cell_type": "code",
   "execution_count": null,
   "metadata": {},
   "outputs": [],
   "source": [
    "x_train, x_test, y_train, y_test = train_test_split(x_full, y_full, test_size=0.2, random_state=42)\n",
    "\n",
    "numComponents = x_full.shape[1]\n",
    "\n",
    "pca = PCA(n_components=numComponents\n",
    "        , copy=True\n",
    "        , whiten=False\n",
    "        , svd_solver='auto'\n",
    "          , tol=0.0\n",
    "          , iterated_power='auto'\n",
    "          , random_state=None)\n",
    "\n",
    "pca.fit(x_train)"
   ]
  },
  {
   "cell_type": "code",
   "execution_count": null,
   "metadata": {},
   "outputs": [],
   "source": [
    "x_train_pca = pca.transform(x_train)\n",
    "x_test_pca = pca.transform(x_test)"
   ]
  },
  {
   "cell_type": "code",
   "execution_count": null,
   "metadata": {},
   "outputs": [],
   "source": [
    "num_features = 69\n",
    "\n",
    "clf = svm.SVC(kernel='rbf', gamma='scale', C=10, verbose=True, cache_size=1000)\n",
    "clf.fit(x_train_pca[:,:num_features], y_train.ravel())"
   ]
  },
  {
   "cell_type": "code",
   "execution_count": null,
   "metadata": {},
   "outputs": [],
   "source": [
    "y_test_pred = clf.predict(x_test_pca[:,:num_features])"
   ]
  },
  {
   "cell_type": "code",
   "execution_count": null,
   "metadata": {},
   "outputs": [],
   "source": [
    "numerrors = np.sum(y_test_pred!=y_test.ravel())\n",
    "print(numerrors/len(y_test))"
   ]
  },
  {
   "cell_type": "code",
   "execution_count": null,
   "metadata": {},
   "outputs": [],
   "source": [
    "num_features_list = [i for i in range(10,100,10)] + [i for i in range(100,700,100)]\n",
    "num_features_list"
   ]
  },
  {
   "cell_type": "code",
   "execution_count": null,
   "metadata": {},
   "outputs": [],
   "source": [
    "#num_features_list = [i for i in range(200,700,100)]\n",
    "errors_list = []\n",
    "for numFeat in num_features_list:\n",
    "    clf = svm.SVC(kernel='rbf', gamma='scale', C=10, verbose=True, cache_size=1000)\n",
    "    clf.fit(x_train_pca[:,:numFeat], y_train.ravel())\n",
    "    y_test_pred = clf.predict(x_test_pca[:,:numFeat])\n",
    "    numerrors = np.sum(y_test_pred!=y_test.ravel())\n",
    "    errors_list.append(numerrors/len(y_test))"
   ]
  },
  {
   "cell_type": "code",
   "execution_count": null,
   "metadata": {
    "scrolled": false
   },
   "outputs": [],
   "source": [
    "plt.plot(num_features_list, errors_list)"
   ]
  },
  {
   "cell_type": "code",
   "execution_count": null,
   "metadata": {},
   "outputs": [],
   "source": [
    "num_features_list = [i for i in range(60,80,1)]"
   ]
  },
  {
   "cell_type": "code",
   "execution_count": null,
   "metadata": {},
   "outputs": [],
   "source": [
    "errors_list = []\n",
    "for numFeat in num_features_list:\n",
    "    clf = svm.SVC(kernel='rbf', gamma='scale', C=10, verbose=True, cache_size=1000)\n",
    "    clf.fit(x_train_pca[:,:numFeat], y_train.ravel())\n",
    "    y_test_pred = clf.predict(x_test_pca[:,:numFeat])\n",
    "    numerrors = np.sum(y_test_pred!=y_test.ravel())\n",
    "    errors_list.append(numerrors/len(y_test))"
   ]
  },
  {
   "cell_type": "code",
   "execution_count": null,
   "metadata": {},
   "outputs": [],
   "source": [
    "plt.plot(num_features_list, errors_list)"
   ]
  },
  {
   "cell_type": "code",
   "execution_count": null,
   "metadata": {},
   "outputs": [],
   "source": [
    "best_error_param = num_features_list[np.argmin(errors_list)]\n",
    "print(best_error_param)\n",
    "print('best error: {:.4}'.format(np.min(errors_list)))"
   ]
  },
  {
   "cell_type": "markdown",
   "metadata": {},
   "source": [
    "final model"
   ]
  },
  {
   "cell_type": "code",
   "execution_count": null,
   "metadata": {},
   "outputs": [],
   "source": [
    "num_features = best_error_param\n",
    "\n",
    "clf = svm.SVC(kernel='rbf', gamma='scale', C=10, verbose=True, cache_size=1000)\n",
    "clf.fit(x_train_pca[:,:num_features], y_train.ravel())\n",
    "y_test_pred = clf.predict(x_test_pca[:,:num_features])\n",
    "numerrors = np.sum(y_test_pred!=y_test.ravel())\n",
    "print(numerrors/len(y_test))"
   ]
  },
  {
   "cell_type": "code",
   "execution_count": null,
   "metadata": {},
   "outputs": [],
   "source": [
    "num_features = best_error_param\n",
    "\n",
    "clf = svm.SVC(kernel='rbf', gamma=100, C=1000, verbose=True, cache_size=1000)\n",
    "clf.fit(x_train_pca[:,:num_features], y_train.ravel())\n",
    "y_test_pred = clf.predict(x_test_pca[:,:num_features])\n",
    "numerrors = np.sum(y_test_pred!=y_test.ravel())\n",
    "print(numerrors/len(y_test))"
   ]
  },
  {
   "cell_type": "markdown",
   "metadata": {},
   "source": [
    "Final output"
   ]
  },
  {
   "cell_type": "code",
   "execution_count": null,
   "metadata": {},
   "outputs": [],
   "source": [
    "df_validation = pd.read_csv('./data/test.csv')"
   ]
  },
  {
   "cell_type": "code",
   "execution_count": null,
   "metadata": {},
   "outputs": [],
   "source": [
    "num_features = best_error_param\n",
    "x_validate = df_validation.to_numpy().reshape(-1,784)\n",
    "x_validate_pca = pca.transform(x_validate)\n",
    "clf.fit(x_train_pca[:,:num_features], y_train.ravel())\n",
    "y_validate_pred = clf.predict(x_validate_pca[:,:num_features])"
   ]
  },
  {
   "cell_type": "code",
   "execution_count": null,
   "metadata": {},
   "outputs": [],
   "source": [
    "with open('./data/submission.csv', 'w+') as f:\n",
    "    f.write('ImageID,Label\\n')\n",
    "    for i in range(len(y_validate_pred)):\n",
    "        f.write(str(i+1) + ','  + str(y_validate_pred[i]) + '\\n')"
   ]
  },
  {
   "cell_type": "markdown",
   "metadata": {},
   "source": [
    "Alternative Explorations"
   ]
  },
  {
   "cell_type": "code",
   "execution_count": null,
   "metadata": {},
   "outputs": [],
   "source": [
    "# can we \"visualise\" an average 1, 2, etc...?"
   ]
  },
  {
   "cell_type": "code",
   "execution_count": null,
   "metadata": {},
   "outputs": [],
   "source": [
    "# mean coordinates of each vector grouped by label\n",
    "mean_coords = pca_imgs_df.groupby('label').mean()\n",
    "mean_coords"
   ]
  },
  {
   "cell_type": "code",
   "execution_count": null,
   "metadata": {},
   "outputs": [],
   "source": [
    "pca_imgs_mean = []\n",
    "\n",
    "for i in range(10):\n",
    "    test_coords = mean_coords.loc[i].to_numpy()\n",
    "    cur_pca_img = test_coords[0] * eigenVecs[0]\n",
    "    for i in range(1, numSubComps):\n",
    "        cur_pca_img = cur_pca_img + test_coords[i] * eigenVecs[i]\n",
    "    cur_pca_img = cur_pca_img + np.mean(x_full, axis=0)\n",
    "    pca_imgs_mean.append(cur_pca_img)"
   ]
  },
  {
   "cell_type": "code",
   "execution_count": null,
   "metadata": {},
   "outputs": [],
   "source": [
    "fig, ax = plt.subplots(1,10, figsize = (15,10))\n",
    "for i in range(10):\n",
    "    ax[i].imshow(pca_imgs_mean[i].reshape(28,28), cmap='Greys')"
   ]
  },
  {
   "cell_type": "markdown",
   "metadata": {},
   "source": [
    "### Test: classify based on lowest distance to 'mean' number"
   ]
  },
  {
   "cell_type": "code",
   "execution_count": 182,
   "metadata": {},
   "outputs": [],
   "source": [
    "x_train, x_test, y_train, y_test = train_test_split(x_full, y_full, test_size=0.25, random_state=42)\n",
    "\n",
    "numComponents = x_full.shape[1]\n",
    "\n",
    "pca = PCA(n_components=numComponents\n",
    "        , copy=True\n",
    "        , whiten=False\n",
    "        , svd_solver='auto'\n",
    "          , tol=0.0\n",
    "          , iterated_power='auto'\n",
    "          , random_state=None)\n",
    "\n",
    "pca.fit(x_train)\n",
    "eigenVecs = pca.components_\n",
    "eigenVals = pca.singular_values_"
   ]
  },
  {
   "cell_type": "code",
   "execution_count": 183,
   "metadata": {},
   "outputs": [],
   "source": [
    "x_train_pca = pca.transform(x_train)\n",
    "x_test_pca = pca.transform(x_test)\n",
    "\n",
    "pca_df_train = create_pca_dataframe(x_train_pca, y_train)\n",
    "\n",
    "mean_coords = 0#pca_df_train.groupby('label').mean()\n",
    "\n",
    "mean_coordinates = 0#np.zeros((10, numComponents))\n",
    "\n",
    "for i in range(10):\n",
    "    num_mean_coords = 0#mean_coords.loc[i].to_numpy()\n",
    "#    mean_coordinates[i] = 0#num_mean_coords"
   ]
  },
  {
   "cell_type": "code",
   "execution_count": 197,
   "metadata": {},
   "outputs": [],
   "source": [
    "def createMahalanobisData(pca_df, numFeatures):\n",
    "    means = []\n",
    "    covs=[]\n",
    "    for i in range(10):\n",
    "        cur_df = pca_df[pca_df['label']==i]\n",
    "        cur_x = cur_df[cur_df.columns[1:numFeatures+1]].to_numpy()\n",
    "        mean = np.mean(cur_x, axis=0)\n",
    "        covMat = np.matmul(np.transpose(cur_x-mean), cur_x-mean)\n",
    "        #invMat = np.linalg.inv(covMat)\n",
    "        means.append(mean)\n",
    "        #invCovs.append(invMat)\n",
    "        covs.append(covMat)\n",
    "    return means, covs\n",
    "        "
   ]
  },
  {
   "cell_type": "code",
   "execution_count": 198,
   "metadata": {},
   "outputs": [],
   "source": [
    "def categoriseImage(img_coords, means, covMats):\n",
    "    # calculate distance between img_coords and each element in mean_coords\n",
    "    # pick label i \\ d(imgVector, img_mean[i]) is minimum\n",
    "    \n",
    "    dist = mahalanobisDistanceSqu(img_coords, means[0], covMats[0])\n",
    "    lab = 0\n",
    "    for i in range(1, 10):\n",
    "        distComp = mahalanobisDistanceSqu(img_coords, means[i], covMats[i])\n",
    "        if distComp < dist:\n",
    "            lab = i\n",
    "            dist  = distComp\n",
    "    return lab"
   ]
  },
  {
   "cell_type": "code",
   "execution_count": 208,
   "metadata": {},
   "outputs": [],
   "source": [
    "def mahalanobisDistanceSqu(x, mean, covMat):\n",
    "    #res = np.matmul(invCovMat, x-mean)\n",
    "    #res = np.matmul(np.transpose(x-mean), res)\n",
    "    res=np.matmul(np.transpose(x-mean), linalg.solve(covMat, x-mean, sym_pos=True))\n",
    "    return res"
   ]
  },
  {
   "cell_type": "code",
   "execution_count": 209,
   "metadata": {},
   "outputs": [
    {
     "name": "stdout",
     "output_type": "stream",
     "text": [
      "percentage Error: 0.05784126984126984\n"
     ]
    }
   ],
   "source": [
    "numFeatures = 69\n",
    "means, covs = createMahalanobisData(pca_df_train, numFeatures)\n",
    "\n",
    "y_train_pred = np.zeros(y_train.shape[0])\n",
    "for i in range(x_train_pca.shape[0]):\n",
    "    lab = categoriseImage(x_train_pca[i][:numFeatures], means, covs)\n",
    "    y_train_pred[i] = lab\n",
    "numErrors = np.sum(y_train_pred!=y_train.ravel())\n",
    "print('percentage Error: {}'.format(numErrors/len(y_train)))    "
   ]
  },
  {
   "cell_type": "code",
   "execution_count": 211,
   "metadata": {},
   "outputs": [
    {
     "name": "stdout",
     "output_type": "stream",
     "text": [
      "percentage Error: 0.06390476190476191\n"
     ]
    }
   ],
   "source": [
    "y_test_pred = np.zeros(y_test.shape[0])\n",
    "for i in range(x_test_pca.shape[0]):\n",
    "    lab = categoriseImage(x_test_pca[i][:numFeatures], means, covs)\n",
    "    y_test_pred[i] = lab\n",
    "numErrors = np.sum(y_test_pred!=y_test.ravel())\n",
    "print('percentage Error: {}'.format(numErrors/len(y_test)))    "
   ]
  },
  {
   "cell_type": "code",
   "execution_count": 214,
   "metadata": {},
   "outputs": [
    {
     "name": "stdout",
     "output_type": "stream",
     "text": [
      "2365\n"
     ]
    }
   ],
   "source": [
    "print(np.argmax(y_train_pred-y_train.ravel()))"
   ]
  },
  {
   "cell_type": "code",
   "execution_count": 215,
   "metadata": {},
   "outputs": [
    {
     "name": "stdout",
     "output_type": "stream",
     "text": [
      "predicted: 8\n",
      "actual: [0]\n",
      "distance from 0: 0.03890602981685314\n",
      "distance from 1: 0.2462900535088457\n",
      "distance from 2: 0.056274569033813754\n",
      "distance from 3: 0.04587309589219837\n",
      "distance from 4: 0.10484158148484471\n",
      "distance from 5: 0.04732239237941663\n",
      "distance from 6: 0.1116137745013521\n",
      "distance from 7: 0.1664153407542558\n",
      "distance from 8: 0.02747272205824699\n",
      "distance from 9: 0.12116306533026318\n"
     ]
    },
    {
     "data": {
      "image/png": "[encoded data removed]",
      "text/plain": [
       "<Figure size 432x288 with 1 Axes>"
      ]
     },
     "metadata": {
      "needs_background": "light"
     },
     "output_type": "display_data"
    }
   ],
   "source": [
    "imgNum = 2365\n",
    "lab = categoriseImage(x_train_pca[imgNum][:numFeatures], means, covs)\n",
    "print('predicted: {}'.format(lab))\n",
    "print('actual: {}'.format(y_train[imgNum]))\n",
    "\n",
    "for i in range(10):\n",
    "    d = mahalanobisDistanceSqu(x_train_pca[imgNum][:numFeatures], means[i][:numFeatures], covs[i])\n",
    "    print('distance from {}: {}'.format(i, d))\n",
    "visualisePCAImage(x_train_pca[imgNum][:numFeatures], eigenVecs,numFeatures)"
   ]
  },
  {
   "cell_type": "code",
   "execution_count": null,
   "metadata": {},
   "outputs": [],
   "source": []
  }
 ],
 "metadata": {
  "kernelspec": {
   "display_name": "Python 3",
   "language": "python",
   "name": "python3"
  },
  "language_info": {
   "codemirror_mode": {
    "name": "ipython",
    "version": 3
   },
   "file_extension": ".py",
   "mimetype": "text/x-python",
   "name": "python",
   "nbconvert_exporter": "python",
   "pygments_lexer": "ipython3",
   "version": "3.7.4"
  }
 },
 "nbformat": 4,
 "nbformat_minor": 2
}
